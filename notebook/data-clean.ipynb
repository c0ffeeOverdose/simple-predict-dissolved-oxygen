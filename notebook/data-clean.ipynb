{
 "cells": [
  {
   "cell_type": "markdown",
   "metadata": {},
   "source": [
    "# Data Cleaning"
   ]
  },
  {
   "cell_type": "code",
   "execution_count": null,
   "metadata": {},
   "outputs": [],
   "source": [
    "DATA_PATH = \"../output/raw-csv\"\n",
    "OUTPUT_PATH = \"../output/csv\"\n",
    "OUTPUT_STAT_PATH = \"../output/csv-stat\"\n",
    "\n",
    "OUTLIER_THRESHOLDS = {\n",
    "    \"pH\": (0, 14),\n",
    "    \"EC\": (0, 2000),\n",
    "    \"Temp\": (0, 50),\n",
    "    \"DO\": (0, 20)\n",
    "}"
   ]
  },
  {
   "cell_type": "code",
   "execution_count": null,
   "metadata": {},
   "outputs": [],
   "source": [
    "\n",
    "from pathlib import Path\n",
    "from pandas import DataFrame, read_csv\n",
    "from logging import basicConfig, INFO\n",
    "from dataclasses import dataclass\n",
    "from IPython.display import display\n",
    "\n",
    "basicConfig(level=INFO)\n",
    "\n",
    "from mp import mp_print, mp_exec"
   ]
  },
  {
   "cell_type": "code",
   "execution_count": null,
   "metadata": {},
   "outputs": [],
   "source": [
    "DATA_PATH = Path(DATA_PATH).resolve()\n",
    "OUTPUT_PATH = Path(OUTPUT_PATH).resolve()\n",
    "OUTPUT_STAT_PATH = Path(OUTPUT_STAT_PATH).resolve()\n",
    "\n",
    "OUTPUT_PATH.mkdir(parents=True, exist_ok=True)\n",
    "OUTPUT_STAT_PATH.mkdir(parents=True, exist_ok=True)"
   ]
  },
  {
   "cell_type": "code",
   "execution_count": null,
   "metadata": {},
   "outputs": [],
   "source": [
    "def iter_files():\n",
    "    for file in filter(lambda x: x.is_file() and x.is_file(), DATA_PATH.iterdir()):\n",
    "        yield file"
   ]
  },
  {
   "cell_type": "code",
   "execution_count": null,
   "metadata": {},
   "outputs": [],
   "source": [
    "@dataclass\n",
    "class Stat:\n",
    "    name: str\n",
    "    total: int\n",
    "    missing: int\n",
    "    outliers: int\n",
    "    valid: int\n",
    "    threshold_outliers: int\n",
    "    iqr_outliers: int\n",
    "    ph_iqr: float\n",
    "    ph_lb: float\n",
    "    ph_up: float\n",
    "    ec_iqr: float\n",
    "    ec_lb: float\n",
    "    ec_up: float\n",
    "    temp_iqr: float\n",
    "    temp_lb: float\n",
    "    temp_up: float\n",
    "    do_iqr: float\n",
    "    do_lb: float\n",
    "    do_up: float\n",
    "\n",
    "def task(file: Path):\n",
    "    station = file.name.split(\".\")[0]\n",
    "    mp_print(f\"Processing : {station}\")\n",
    "    \n",
    "    stat = Stat(station,0,0,0,0,0,0,0.0,0.0,0.0,0.0,0.0,0.0,0.0,0.0,0.0,0.0,0.0,0.0)\n",
    "    df = read_csv(file)\n",
    "    stat.total = len(df)\n",
    "\n",
    "    df = df[[\"Datetime\", \"pH\", \"EC\", \"Temp\", \"DO\"]]\n",
    "\n",
    "    df.dropna(inplace=True)\n",
    "    stat.missing = stat.total - len(df)\n",
    "\n",
    "    size = len(df)\n",
    "    for column, (low, high) in OUTLIER_THRESHOLDS.items():\n",
    "        df = df[(df[column] >= low) & (df[column] <= high)]\n",
    "        stat.threshold_outliers += size - len(df)\n",
    "        size = len(df)\n",
    "\n",
    "    Q1 = df[[\"pH\", \"EC\", \"Temp\", \"DO\"]].quantile(0.25)\n",
    "    Q3 = df[[\"pH\", \"EC\", \"Temp\", \"DO\"]].quantile(0.75)\n",
    "    IQR = Q3 - Q1\n",
    "    lower_bound = Q1 - 1.5 * IQR\n",
    "    upper_bound = Q3 + 1.5 * IQR\n",
    "\n",
    "    df = df[\n",
    "        (df[\"pH\"] >= lower_bound[\"pH\"]) & (df[\"pH\"] <= upper_bound[\"pH\"]) &\n",
    "        (df[\"EC\"] >= lower_bound[\"EC\"]) & (df[\"EC\"] <= upper_bound[\"EC\"]) &\n",
    "        (df[\"Temp\"] >= lower_bound[\"Temp\"]) & (df[\"Temp\"] <= upper_bound[\"Temp\"]) &\n",
    "        (df[\"DO\"] >= lower_bound[\"DO\"]) & (df[\"DO\"] <= upper_bound[\"DO\"])\n",
    "    ]\n",
    "    \n",
    "    for column in [\"pH\", \"EC\", \"Temp\", \"DO\"]:\n",
    "        setattr(stat, f\"{column.lower()}_iqr\", IQR[column])\n",
    "        setattr(stat, f\"{column.lower()}_lb\", lower_bound[column])\n",
    "        setattr(stat, f\"{column.lower()}_ub\", upper_bound[column])\n",
    "\n",
    "    stat.iqr_outliers = size - len(df)\n",
    "    stat.outliers = stat.threshold_outliers + stat.iqr_outliers\n",
    "    stat.valid = len(df)\n",
    "\n",
    "    assert stat.total == stat.missing + stat.outliers + stat.valid\n",
    "\n",
    "    return (station, df, stat)"
   ]
  },
  {
   "cell_type": "code",
   "execution_count": null,
   "metadata": {},
   "outputs": [],
   "source": [
    "data: dict[str, DataFrame] = {x: (y, z) for x, y, z in mp_exec(task, iter_files(), unorder=True)}\n",
    "\n",
    "stats: list[Stat] = []\n",
    "\n",
    "for station, values in data.items():\n",
    "    df, stat = values\n",
    "    print(f\"Station : {station}, data : {df.shape}\")\n",
    "    stats.append(stat)\n",
    "    df.to_csv(OUTPUT_PATH / f\"{station}.csv\", index=False)"
   ]
  },
  {
   "cell_type": "code",
   "execution_count": null,
   "metadata": {},
   "outputs": [],
   "source": [
    "stats_df = DataFrame([s.__dict__ for s in stats])\n",
    "stats_df.set_index(\"name\", inplace=True)\n",
    "stats_df.sort_values(\"valid\", ascending=False, inplace=True)\n",
    "stats_df.to_csv(OUTPUT_STAT_PATH / \"stat.csv\", index=True)\n",
    "\n",
    "display(stats_df[[\"total\", \"missing\", \"outliers\", \"threshold_outliers\", \"iqr_outliers\", \"valid\"]])"
   ]
  },
  {
   "cell_type": "code",
   "execution_count": null,
   "metadata": {},
   "outputs": [],
   "source": [
    "display(stats_df[[f\"{x}_{y}\" for y in [\"iqr\", \"lb\", \"up\"] for x in [\"ph\", \"ec\", \"temp\", \"do\"]]].round(3))"
   ]
  }
 ],
 "metadata": {
  "kernelspec": {
   "display_name": "venv",
   "language": "python",
   "name": "python3"
  },
  "language_info": {
   "codemirror_mode": {
    "name": "ipython",
    "version": 3
   },
   "file_extension": ".py",
   "mimetype": "text/x-python",
   "name": "python",
   "nbconvert_exporter": "python",
   "pygments_lexer": "ipython3",
   "version": "3.12.7"
  }
 },
 "nbformat": 4,
 "nbformat_minor": 2
}
