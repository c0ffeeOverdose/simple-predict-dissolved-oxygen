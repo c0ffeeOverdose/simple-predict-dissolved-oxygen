{
 "cells": [
  {
   "cell_type": "markdown",
   "metadata": {},
   "source": [
    "# Data Pre-processing"
   ]
  },
  {
   "cell_type": "code",
   "execution_count": 1,
   "metadata": {},
   "outputs": [],
   "source": [
    "DATA_PATH = \"../output/csv\"\n",
    "OUTPUT_PATH = \"../output/data\"\n",
    "\n",
    "SAMPLES = 2000\n",
    "TRAIN_RATIO = 0.70\n",
    "VAL_RATIO = 0.20\n",
    "TEST_RATIO = 0.10\n",
    "RANDOM_STATE = 42"
   ]
  },
  {
   "cell_type": "code",
   "execution_count": 2,
   "metadata": {},
   "outputs": [],
   "source": [
    "from pathlib import Path\n",
    "from pandas import read_csv\n",
    "from numpy import concat\n",
    "from logging import basicConfig, INFO\n",
    "from sys import float_info\n",
    "from sklearn.model_selection import train_test_split\n",
    "from sklearn.preprocessing import MinMaxScaler\n",
    "from joblib import dump\n",
    "\n",
    "basicConfig(level=INFO)\n",
    "\n",
    "from dataset_type import Dataset"
   ]
  },
  {
   "cell_type": "code",
   "execution_count": 3,
   "metadata": {},
   "outputs": [],
   "source": [
    "DATA_PATH = Path(DATA_PATH).resolve()\n",
    "OUTPUT_PATH = Path(OUTPUT_PATH).resolve()\n",
    "\n",
    "OUTPUT_PATH.mkdir(parents=True, exist_ok=True)\n",
    "\n",
    "assert (1.0 - (TRAIN_RATIO + VAL_RATIO + TEST_RATIO)) < float_info.epsilon"
   ]
  },
  {
   "cell_type": "code",
   "execution_count": 4,
   "metadata": {},
   "outputs": [],
   "source": [
    "def iter_files(dir_: Path):\n",
    "    for file in filter(lambda x: x.is_file() and x.is_file(), dir_.iterdir()):\n",
    "        yield (file.name.split(\".\")[0], file)"
   ]
  },
  {
   "cell_type": "code",
   "execution_count": 5,
   "metadata": {},
   "outputs": [
    {
     "name": "stdout",
     "output_type": "stream",
     "text": [
      "Station: ป่าสัก3สถานี นครหลวง 2558-2563\n",
      "Station: ป่าสัก3สถานี แก่งคอย 2558-2563\n",
      "Station: ป่าสัก3สถานี เสาไห้ 2558-2563\n",
      "Station: ยม สุโขทัย 2558-2563\n",
      "Station: ยม สามง่าม 2558-2563\n",
      "Station: ยม โพทะเล 2558-2563\n",
      "Station: วัง เกาะคา 2558-2563\n",
      "Station: แม่น้ำท่าจีน กระทุ่มแบน 2558-2563\n",
      "Station: แม่น้ำท่าจีน บางเลน 2558-2563\n",
      "Station: แม่น้ำท่าจีน สองพี่น้อง 2558-2563\n",
      "Station: แม่น้ำท่าจีน นครชัยศรี 2558-2563\n",
      "Station: แม่น้ำท่าจีน หันคา 2558-2563\n",
      "Station: แม่น้ำท่าจีน สุพรรณบุรี 2558-2563\n",
      "Station: แม่น้ำท่าจีน สามชุก 2558-2563\n",
      "Station: ปิง เชียงใหม่ 2558-2563\n",
      "Station: ปิง กำแพงเพชร 2558-2563\n",
      "Station: น่าน อุตรดิตถ์ 2558-2563\n",
      "Station: น่าน น่าน 2558-2563\n",
      "Station: น่าน พิษณุโลก 2558-2563\n"
     ]
    }
   ],
   "source": [
    "datasets: dict[str, Dataset] = {}\n",
    "\n",
    "for station, file in iter_files(Path(DATA_PATH)):\n",
    "    df = read_csv(file, parse_dates=[\"Datetime\"])\n",
    "    df = df.tail(SAMPLES).reset_index(drop=True)\n",
    "\n",
    "    X = df[[\"pH\", \"EC\", \"Temp\"]].values\n",
    "    y = df[\"DO\"].values.reshape(-1, 1)\n",
    "\n",
    "    assert len(df) == SAMPLES\n",
    "\n",
    "    X_train, X_temp, y_train, y_temp = train_test_split(X, y, train_size=TRAIN_RATIO, random_state=RANDOM_STATE)\n",
    "    X_val, X_test, y_val, y_test = train_test_split(X_temp, y_temp, test_size=TEST_RATIO / (TEST_RATIO + VAL_RATIO), random_state=RANDOM_STATE)\n",
    "\n",
    "    X_scaler = MinMaxScaler().fit(concat((X_train, X_val)))\n",
    "    y_scaler = MinMaxScaler().fit(concat((y_train, y_val)))\n",
    "\n",
    "    X_train_mms = X_scaler.transform(X_train)\n",
    "    y_train_mms = y_scaler.transform(y_train)\n",
    "\n",
    "    X_val_mms = X_scaler.transform(X_val)    \n",
    "    y_val_mms = y_scaler.transform(y_val)\n",
    "\n",
    "    X_test_mms = X_scaler.transform(X_test)\n",
    "    y_test_mms = y_scaler.transform(y_test)\n",
    "\n",
    "    print(f\"Station: {station}\")\n",
    "\n",
    "    datasets[station] = Dataset(\n",
    "        df[[\"pH\", \"EC\", \"Temp\"]], df[\"DO\"],\n",
    "        X_train, X_val, X_test, y_train, y_val, y_test,\n",
    "        X_scaler, y_scaler,\n",
    "        X_train_mms, X_val_mms, X_test_mms, y_train_mms, y_val_mms, y_test_mms\n",
    "    )"
   ]
  },
  {
   "cell_type": "code",
   "execution_count": 6,
   "metadata": {},
   "outputs": [],
   "source": [
    "_ = dump(datasets, OUTPUT_PATH / \"dataset.joblib\")"
   ]
  }
 ],
 "metadata": {
  "kernelspec": {
   "display_name": "venv",
   "language": "python",
   "name": "python3"
  },
  "language_info": {
   "codemirror_mode": {
    "name": "ipython",
    "version": 3
   },
   "file_extension": ".py",
   "mimetype": "text/x-python",
   "name": "python",
   "nbconvert_exporter": "python",
   "pygments_lexer": "ipython3",
   "version": "3.12.7"
  }
 },
 "nbformat": 4,
 "nbformat_minor": 2
}
